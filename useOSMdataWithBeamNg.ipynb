{
 "cells": [
  {
   "attachments": {},
   "cell_type": "markdown",
   "metadata": {},
   "source": [
    "# Use OpenStreetMap data within BeamNG\n",
    "\n",
    "In this example, we download OpenStreetMap data for San Francisco and use the [OSMnx](https://github.com/gboeing/osmnx) library to generate a network graph of the streets and roads in the area. We then use the `Scenario` and `Road` classes in BeamNGpy to create a scenario that includes roads based on the OpenStreetMap data. Finally, we add a vehicle to the scenario and use the `ai_set_route` method to drive the vehicle along the roads in the scenario."
   ]
  },
  {
   "cell_type": "code",
   "execution_count": null,
   "metadata": {},
   "outputs": [],
   "source": [
    "try:\n",
    "    import conda.cli\n",
    "    conda_available = True\n",
    "except ImportError:\n",
    "    conda_available = False\n",
    "\n",
    "if conda_available:\n",
    "    # Conda is available, so you can create a new environment and install packages\n",
    "    import subprocess\n",
    "    \n",
    "    # Create a new Conda environment called \"beam_ng\" with Python 3.8\n",
    "    subprocess.run(['conda', 'create', '--name', 'beam_ng', 'python=3.8'], check=True)\n",
    "\n",
    "    # Activate the \"beam_ng\" environment\n",
    "    subprocess.run(['conda', 'activate', 'beam_ng'], check=True)\n",
    "\n",
    "    # Install the necessary packes in the \"beam_ng\" environment\n",
    "    subprocess.run(['conda', 'install', 'osmnx', 'beamngpy', 'numpy', 'time'], check=True)\n",
    "else:\n",
    "    # Conda is not available, so you will need to install packages manually or using a different package mananger\n",
    "    print(\"Conda is not available. Please make sure Conda is installed and in your system PATH.\")\n",
    "    raise SystemExit\n",
    "\n",
    "# Now you can import the necessary packages and run your code\n",
    "import osmnx as ox\n",
    "import beamngpy\n",
    "import numpy as np\n",
    "import time"
   ]
  },
  {
   "attachments": {},
   "cell_type": "markdown",
   "metadata": {},
   "source": [
    "## Download OpenStreetMap data for a specific location"
   ]
  },
  {
   "cell_type": "code",
   "execution_count": null,
   "metadata": {},
   "outputs": [],
   "source": [
    "# Download OpenStreetMap data for a specific location\n",
    "# In this case, we are downloading map data for San Francisco, California\n",
    "location = \"San Francisco, California\"\n",
    "graph = ox.graph_from_place(location, network_type='drive')"
   ]
  },
  {
   "attachments": {},
   "cell_type": "markdown",
   "metadata": {},
   "source": [
    "## Create a new scenario for BeamNG"
   ]
  },
  {
   "cell_type": "code",
   "execution_count": null,
   "metadata": {},
   "outputs": [],
   "source": [
    "# Create a BeamNGpy scenario with roads based on the OpenStreetMap data\n",
    "# We create a new scenario called \"my_scenario\"\n",
    "scenario = beamngpy.Scenario('gridmap', 'my_scenario')\n",
    "# Loop through each road in the OpenStreetMap data and add it to the scenario\n",
    "for u, v, data in graph.edges(data=True):\n",
    "    start = graph.nodes[u]\n",
    "    end = graph.nodes[v]\n",
    "    pos = np.array([start['x'], start['y'], 0])\n",
    "    rot = np.array([0, 0, np.arctan2(end['y']-start['y'], end['x']-start['x'])])\n",
    "    # Create a new road object with a unique name based on the start and end nodes\n",
    "    # of the road, and a width based on the number of lanes\n",
    "    road = beamngpy.Road('road_{}_{}'.format(u, v), [pos, pos], width=data['lanes']*3)\n",
    "    # Use a Bezier curve to create a smooth path for the road between the start and end nodes\n",
    "    road.bezier([pos, pos, pos, pos+np.array([5, 5, 0]), pos+np.array([10, 5, 0])])\n",
    "    # Add the road to the scenario\n",
    "    scenario.add_road(road)"
   ]
  },
  {
   "attachments": {},
   "cell_type": "markdown",
   "metadata": {},
   "source": [
    "## Add a vehicle to the scenario"
   ]
  },
  {
   "cell_type": "code",
   "execution_count": null,
   "metadata": {},
   "outputs": [],
   "source": [
    "# Add a vehicle to the scenario\n",
    "# We create a new vehicle object with a name of \"vehicle\"\n",
    "# We use the \"etk800\" model for the vehicle, and set its licens plate to \"DA3M0N\"\n",
    "vehicle = beamngpy.Vehicle('vehicle', model='etk800', licence='DA3M0N')\n",
    "# Add the vehicle to the scenario at position (0, 0, 0) and rotation (0, 0, 0)\n",
    "scenario.add_vehicle(vehicle, pos=(0, 0, 0), rot=(0, 0, 0))\n",
    "# Create a new instance of the BeamNGpy class, pointing to the machine running the simulator\n",
    "# We also specify the location of the BeamNG.drive installation folder\n",
    "bng = beamngpy.BeamNGpy('localhost', 64256, home='path/to/beamng/folder')\n",
    "# Load the scenario we created earlier into the simulator\n",
    "bng.load_scenario(scenario)\n",
    "# Start the scenario\n",
    "bng.start_scenario()"
   ]
  },
  {
   "attachments": {},
   "cell_type": "markdown",
   "metadata": {},
   "source": [
    "## Drive the vehicle along the roads in the scenario"
   ]
  },
  {
   "cell_type": "code",
   "execution_count": null,
   "metadata": {},
   "outputs": [],
   "source": [
    "# Drive the vehicle along the roads in the scenario\n",
    "# We loop through 10 times and randomly select a new target node each time\n",
    "for i in range(10):\n",
    "    node = graph.nodes[np.random.choice(list(graph.nodes))]\n",
    "    # Convert the position of the target node to a numpy array\n",
    "    target = np.array([node['x'], node['y'], 0])\n",
    "    # Use the BeamNGpy route planner to generate a path from the vehicle's current position to the target node\n",
    "    path = beamngpy.route_planner.RoutePlanner(road_network=graph).shortest_path(vehicle.get_position(), target)\n",
    "    # Use the vehicle's AI to follow the generated path\n",
    "    vehicle.ai_set_route(path)\n",
    "    # Wait for 10 seconds before selecting a new target node\n",
    "    time.sleep(10)"
   ]
  },
  {
   "attachments": {},
   "cell_type": "markdown",
   "metadata": {},
   "source": [
    "## Stop the simulator and clean up"
   ]
  },
  {
   "attachments": {},
   "cell_type": "markdown",
   "metadata": {},
   "source": [
    "# Stop the simulator and clean up\n",
    "bng.stop_scenario()\n",
    "bng.close()"
   ]
  }
 ],
 "metadata": {
  "language_info": {
   "name": "python"
  },
  "orig_nbformat": 4
 },
 "nbformat": 4,
 "nbformat_minor": 2
}
